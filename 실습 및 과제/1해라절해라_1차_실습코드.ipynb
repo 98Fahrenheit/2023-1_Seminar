{
 "cells": [
  {
   "cell_type": "code",
   "execution_count": null,
   "metadata": {},
   "outputs": [],
   "source": [
    "#1\n",
    "a = [1,5,8,2,4,9]\n",
    "a[2]= 0\n",
    "a[3]= 0\n",
    "print(a)"
   ]
  },
  {
   "cell_type": "code",
   "execution_count": null,
   "metadata": {},
   "outputs": [],
   "source": [
    "#2\n",
    "i=int(input())\n",
    "sum=0\n",
    "if i <=100:\n",
    "    for a in range(i+1):\n",
    "        sum=sum+a\n",
    "    print(sum)\n",
    "            "
   ]
  },
  {
   "cell_type": "code",
   "execution_count": null,
   "metadata": {},
   "outputs": [],
   "source": [
    "#3\n",
    "want = []\n",
    "n = int(input(\"숫자를 몇 개 입력하시겠습니까? \"))\n",
    "for i in range(n):\n",
    "    num = int(input(\"숫자를 입력하세요: \"))\n",
    "    want.append(num)\n",
    "    \n",
    "    \n",
    "for i in range(len(want)):\n",
    "    if (i+1) % 2 == 1:\n",
    "        want[i] = str(want[i])"
   ]
  },
  {
   "cell_type": "code",
   "execution_count": null,
   "metadata": {},
   "outputs": [],
   "source": [
    "#4\n",
    "for i in want:\n",
    "    if type(i) == int:\n",
    "        want.remove(i)\n",
    "\n",
    "want = [int(i) for i in want] \n",
    "want.sort()\n",
    "\n",
    "print(want) "
   ]
  },
  {
   "cell_type": "code",
   "execution_count": null,
   "metadata": {},
   "outputs": [],
   "source": [
    "#5\n",
    "fruitdb = [['사과', 1020], ['오렌지', 880], ['포도', 3160]]\n",
    "print(fruitdb[2])\n",
    "print(fruitdb[0][0])"
   ]
  },
  {
   "cell_type": "code",
   "execution_count": null,
   "metadata": {},
   "outputs": [],
   "source": [
    "#6\n",
    "fruits = {'사과', '오렌지', '포도'}\n",
    "print('사과' in fruits)\n",
    "print('멜멜론' in fruits)"
   ]
  },
  {
   "cell_type": "code",
   "execution_count": null,
   "metadata": {},
   "outputs": [],
   "source": [
    "#7\n",
    "def fruit_counts():\n",
    "    training_data = [['연두', 3, '사과'], ['노랑', 3, '사과'], ['빨강', 2, '포도'], ['빨강', 1, '포도'], ['노랑', 3, '레몬']]\n",
    "    result_dict = {}\n",
    "    for data in training_data:\n",
    "        fruit = data[-1]\n",
    "        if fruit in result_dict:\n",
    "            result_dict[fruit] += 1\n",
    "        else:\n",
    "            result_dict[fruit] = 1\n",
    "    return result_dict\n",
    "print(fruit_counts())\n"
   ]
  },
  {
   "cell_type": "code",
   "execution_count": null,
   "metadata": {},
   "outputs": [],
   "source": [
    "#8\n",
    "def solution(str1, str2):\n",
    "    if str2 in str1:\n",
    "        return 1\n",
    "    else:\n",
    "        return 2\n",
    "\n",
    "str1 = input(\"first string: \")\n",
    "str2 = input(\"second string: \")\n",
    "result = solution(str1, str2)\n",
    "print(result)"
   ]
  },
  {
   "cell_type": "code",
   "execution_count": null,
   "metadata": {},
   "outputs": [],
   "source": [
    "#9\n",
    "def solution(n):\n",
    "    divisors=[]\n",
    "    for i in range(1,n+1):\n",
    "        if n % i == 0:\n",
    "            divisors.append(i)\n",
    "    return divisors\n",
    "n=int(input(\"정수를 입력하세요:\"))\n",
    "answer=solution(n)\n",
    "print(f\"{n}의 약수:{answer}\")"
   ]
  },
  {
   "cell_type": "code",
   "execution_count": null,
   "metadata": {},
   "outputs": [],
   "source": [
    "#10\n",
    "M = int(input())\n",
    "N = int(input())\n",
    "arr = []\n",
    "for i in range(M, N + 1):\n",
    "    if i == 1:\n",
    "        pass\n",
    "    elif i == 2:\n",
    "        arr.append(i)\n",
    "    else:\n",
    "        for j in range(2, i):\n",
    "            if i % j == 0:\n",
    "                break\n",
    "            elif j == i - 1:\n",
    "                arr.append(i)\n",
    "if len(arr) == 0:\n",
    "    print(\"소수를 찾을 수 없습니다 \")\n",
    "else:\n",
    "    print(sum(arr))\n",
    "    print(min(arr))"
   ]
  }
 ],
 "metadata": {
  "kernelspec": {
   "display_name": "Python 3",
   "language": "python",
   "name": "python3"
  },
  "language_info": {
   "codemirror_mode": {
    "name": "ipython",
    "version": 3
   },
   "file_extension": ".py",
   "mimetype": "text/x-python",
   "name": "python",
   "nbconvert_exporter": "python",
   "pygments_lexer": "ipython3",
   "version": "3.6.5"
  }
 },
 "nbformat": 4,
 "nbformat_minor": 2
}
