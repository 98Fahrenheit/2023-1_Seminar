{
 "cells": [
  {
   "cell_type": "code",
   "execution_count": null,
   "metadata": {},
   "outputs": [],
   "source": [
    "##연습 문제1\n",
    "import numpy as np\n",
    "a = np.array([10, 20, 30, 40, 50, 60, 70, 80])\n",
    "a\n"
   ]
  },
  {
   "cell_type": "code",
   "execution_count": null,
   "metadata": {},
   "outputs": [],
   "source": [
    "## 연습 문제 2\n",
    "m = np.array([[0,1,2,3,4], [5,6,7,8,9], [10,11,12,13,14]])\n"
   ]
  },
  {
   "cell_type": "code",
   "execution_count": null,
   "metadata": {},
   "outputs": [],
   "source": [
    "#1\n",
    "m[1][2]\n",
    "\n",
    "#2\n",
    "m[2][4]\n",
    "\n",
    "#3\n",
    "m[1, 1:3]\n",
    "\n",
    "#4\n",
    "m[1:3,2]\n",
    "\n",
    "#5\n",
    "m[0:2, 3:5]"
   ]
  },
  {
   "cell_type": "code",
   "execution_count": null,
   "metadata": {},
   "outputs": [],
   "source": [
    "##연습 문제 3\n",
    "import numpy as np\n",
    "\n",
    "height = np.array([173, 168, 171, 189, 179])\n",
    "weight = np.array([65.4, 59.2, 63.6, 88.4, 68.7])\n",
    "\n",
    "bmi = (weight / (height**2))*10000\n",
    "bmi\n",
    "\n",
    "bmi_level = []\n",
    "for i in bmi :\n",
    "  if i <= 21 :\n",
    "    bmi_level.append(\"저체중\")\n",
    "  elif 21 < i < 24 :\n",
    "    bmi_level.append(\"정상\")\n",
    "  else :\n",
    "    bmi_level.append(\"비만\")\n",
    "\n",
    "bmi_level\n",
    "\n"
   ]
  }
 ],
 "metadata": {
  "kernelspec": {
   "display_name": "Python 3",
   "language": "python",
   "name": "python3"
  },
  "language_info": {
   "codemirror_mode": {
    "name": "ipython",
    "version": 3
   },
   "file_extension": ".py",
   "mimetype": "text/x-python",
   "name": "python",
   "nbconvert_exporter": "python",
   "pygments_lexer": "ipython3",
   "version": "3.6.5"
  }
 },
 "nbformat": 4,
 "nbformat_minor": 2
}
