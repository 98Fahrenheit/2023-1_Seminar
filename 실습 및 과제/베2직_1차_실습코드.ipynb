{
 "cells": [
  {
   "cell_type": "code",
   "execution_count": null,
   "metadata": {},
   "outputs": [],
   "source": [
    "#Python\n",
    "#1\n",
    "a=[1,5,8,2,4,9]\n",
    "\n",
    "a[2]=0\n",
    "a[3]=0\n",
    "\n",
    "print(a)\n"
   ]
  },
  {
   "cell_type": "code",
   "execution_count": null,
   "metadata": {},
   "outputs": [],
   "source": [
    "#2\n",
    "i=int(input())\n",
    "sum=0\n",
    "if i <=100:\n",
    "    for a in range(i+1):\n",
    "        sum=sum+a\n",
    "    print(sum)"
   ]
  },
  {
   "cell_type": "code",
   "execution_count": null,
   "metadata": {},
   "outputs": [],
   "source": [
    "#3\n",
    "num_1 = input(\"정수를 입력하시오\")\n",
    "want = list(map(int, num_1.split()))\n",
    "list.sort(want)\n",
    "for i in range(0,len(want), 2):\n",
    "    want[i] = str(want[i])\n",
    "print(want)"
   ]
  },
  {
   "cell_type": "code",
   "execution_count": null,
   "metadata": {},
   "outputs": [],
   "source": [
    "#4\n",
    "num_1 = input(\"정수를 입력하시오\")\n",
    "want = list(map(int, num_1.split()))\n",
    "list.sort(want)\n",
    "for i in range(1,len(want), 1):\n",
    "    want[i]\n",
    "print(want)"
   ]
  },
  {
   "cell_type": "code",
   "execution_count": null,
   "metadata": {},
   "outputs": [],
   "source": [
    "#5\n",
    "fruitdb = [['사과', 1020], ['오렌지', 880], ['포도', 3160]]\n",
    "print(fruitdb[2], fruitdb[0][0])"
   ]
  },
  {
   "cell_type": "code",
   "execution_count": null,
   "metadata": {},
   "outputs": [],
   "source": [
    "#6\n",
    "fruits = {'사과', '오렌지', '포도'}\n",
    "print('사과' in fruits)\n",
    "print('메론' in fruits)"
   ]
  },
  {
   "cell_type": "code",
   "execution_count": null,
   "metadata": {},
   "outputs": [],
   "source": [
    "#7\n",
    "training_data = [['연두', 3, '사과'], ['노랑', 3, '사과'], ['빨강', 2, '포도'], ['빨강', 1, '포도'], ['노랑', 3, '레몬']]\n",
    "sum_apple = 0\n",
    "sum_grape = 0\n",
    "sum_lemon = 0\n",
    "for i in range(5):\n",
    "    if '사과' in training_data[i]:\n",
    "        sum_apple += 1\n",
    "    elif '포도' in training_data[i]:\n",
    "        sum_grape += 1\n",
    "    else:\n",
    "        sum_lemon += 1\n",
    "print(\"'사과': \", sum_apple, \", '포도': \", sum_grape, \", '레몬': \", sum_lemon)"
   ]
  },
  {
   "cell_type": "code",
   "execution_count": null,
   "metadata": {},
   "outputs": [],
   "source": [
    "#8\n",
    "def solution(str1, str2):\n",
    "    answer = 0\n",
    "    if str2 in str1:\n",
    "        return str1.replace(str2,\"\")\n",
    "d=solution('abcdef','f')\n",
    "print(d)"
   ]
  },
  {
   "cell_type": "code",
   "execution_count": null,
   "metadata": {},
   "outputs": [],
   "source": [
    "#9\n",
    "divisor = []\n",
    "\n",
    "def solution(n):\n",
    "    for i in range(1, n+1):\n",
    "        if n % i == 0:\n",
    "            divisor.append(i)\n",
    "    list.sort(divisor)\n",
    "    print(divisor)\n",
    "\n",
    "solution(7)"
   ]
  },
  {
   "cell_type": "code",
   "execution_count": null,
   "metadata": {},
   "outputs": [],
   "source": [
    "#10\n",
    "M=int(input())\n",
    "N=int(input())\n",
    "arr=[]\n",
    "\n",
    "for i in range(M,N+1):\n",
    "    if i==1:\n",
    "        pass\n",
    "    elif i==2:\n",
    "        arr.append(i)\n",
    "    else:\n",
    "        for j in range(2, i):\n",
    "            if i%j==0:\n",
    "                break\n",
    "            elif j==i-1:\n",
    "                arr.append(i)\n",
    "if len(arr)==0:\n",
    "    print('-1')\n",
    "else:\n",
    "    print(sum(arr))\n",
    "    print(min(arr))"
   ]
  }
 ],
 "metadata": {
  "kernelspec": {
   "display_name": "Python 3",
   "language": "python",
   "name": "python3"
  },
  "language_info": {
   "codemirror_mode": {
    "name": "ipython",
    "version": 3
   },
   "file_extension": ".py",
   "mimetype": "text/x-python",
   "name": "python",
   "nbconvert_exporter": "python",
   "pygments_lexer": "ipython3",
   "version": "3.6.5"
  }
 },
 "nbformat": 4,
 "nbformat_minor": 2
}
