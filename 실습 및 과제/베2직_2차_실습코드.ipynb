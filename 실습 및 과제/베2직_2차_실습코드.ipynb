{
 "cells": [
  {
   "cell_type": "code",
   "execution_count": null,
   "metadata": {},
   "outputs": [],
   "source": [
    "#연습 문제 1\n",
    "#넘파이를 사용하여 다음과 같은 행렬을 만든다.\n",
    "#10 20 30 40 50 60 70 80\n",
    "\n",
    "import numpy as np\n",
    "x=np.array([10,20,30,40,50,60,70,80])\n",
    "print(x)\n"
   ]
  },
  {
   "cell_type": "code",
   "execution_count": null,
   "metadata": {},
   "outputs": [],
   "source": [
    "#또 다른 풀이 식\n",
    "import numpy as np\n",
    "x=np.arange(10, 81, 10)\n",
    "print(x)"
   ]
  },
  {
   "cell_type": "code",
   "execution_count": null,
   "metadata": {},
   "outputs": [],
   "source": [
    "#연습 문제 2\n",
    "#이 행렬에서 값 7 을 인덱싱한다.\n",
    "#이 행렬에서 값 14 을 인덱싱한다.\n",
    "#이 행렬에서 배열 [6, 7] 을 슬라이싱한다.\n",
    "#이 행렬에서 배열 [7, 12] 을 슬라이싱한다.\n",
    "#이 행렬에서 배열 [[3, 4], [8, 9]] 을 슬라이싱한다\n",
    "\n",
    "m = np.array([[ 0, 1, 2, 3, 4], [ 5, 6, 7, 8, 9], [10, 11, 12, 13, 14]])\n",
    "#1\n",
    "m[1,2]\n",
    "#2\n",
    "m[2,-1]\n",
    "#3\n",
    "m[1,1:3]\n",
    "#4\n",
    "m[1:3, 2]\n",
    "#5\n",
    "m[0:2, 3:5]"
   ]
  },
  {
   "cell_type": "code",
   "execution_count": null,
   "metadata": {},
   "outputs": [],
   "source": [
    "#연습문제3 numpy이용해서 bmi 구하기\n",
    "#21이하 > 저체중\n",
    "#21초과 24미만 > 정상\n",
    "#24이상 > 비만\n",
    "#bmi_level 배열에 저장\n",
    "\n",
    "import numpy as np\n",
    "height = np.array([173, 168, 171, 189, 179])\n",
    "weight = np.array([65.4, 59.2, 63.6, 88.4, 68.7])\n",
    "bmi=weight/(height*height)*10000\n",
    "bmi_level=[]\n",
    "\n",
    "for di in bmi:\n",
    "    if di<=21:\n",
    "        bmi_level.append('저체중')\n",
    "    elif di <24:\n",
    "        bmi_level.append('정상')\n",
    "    elif di >=24:\n",
    "        bmi_level.append('비만')\n",
    "bmi_level"
   ]
  }
 ],
 "metadata": {
  "kernelspec": {
   "display_name": "Python 3",
   "language": "python",
   "name": "python3"
  },
  "language_info": {
   "codemirror_mode": {
    "name": "ipython",
    "version": 3
   },
   "file_extension": ".py",
   "mimetype": "text/x-python",
   "name": "python",
   "nbconvert_exporter": "python",
   "pygments_lexer": "ipython3",
   "version": "3.6.5"
  }
 },
 "nbformat": 4,
 "nbformat_minor": 2
}
